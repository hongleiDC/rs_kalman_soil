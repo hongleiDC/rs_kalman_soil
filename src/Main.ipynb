{
 "cells": [
  {
   "cell_type": "code",
   "execution_count": null,
   "id": "c4bc5980",
   "metadata": {},
   "outputs": [],
   "source": [
    "from DataPreprocessor import DataPreprocessor\n",
    "\n",
    "# 创建预处理器\n",
    "preprocessor = DataPreprocessor(\n",
    "    aoi_geojson_path=\"../boundary/zhengzhou.geojson\",\n",
    "    local_cygnss_dir=\"/media/hl/Expansion/CYGNSS/CYGNSS_L1_V3.2/2021/7/\",\n",
    "    start_date=\"2021-07-01\",\n",
    "    end_date=\"2021-07-31\",\n",
    "    output_dir=\"/media/hl/Expansion/Results/rs_kalman_soil/zhengzhou_july2021/\",\n",
    ")\n",
    "\n",
    "# 运行完整流程\n",
    "results = preprocessor.run_full_pipeline()\n",
    "\n",
    "# 或分步运行\n",
    "preprocessor.initialize_gee()\n",
    "preprocessor.load_aoi()\n",
    "cygnss_data = preprocessor.read_cygnss_files()\n",
    "era5_data = preprocessor.process_era5_data()\n",
    "modis_data = preprocessor.process_modis_data()\n",
    "imerg_data = preprocessor.process_imerg_data()\n",
    "quality = preprocessor.check_data_quality()\n",
    "preprocessor.export_data()"
   ]
  }
 ],
 "metadata": {
  "kernelspec": {
   "display_name": "rs_kalman_soil",
   "language": "python",
   "name": "python3"
  },
  "language_info": {
   "name": "python",
   "version": "3.10.18"
  }
 },
 "nbformat": 4,
 "nbformat_minor": 5
}
