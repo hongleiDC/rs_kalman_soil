{
 "cells": [
  {
   "cell_type": "markdown",
   "id": "2bb3237b",
   "metadata": {},
   "source": [
    "# 使用 earthaccess 下载 GLDAS Noah (ERA5-Land 替代气象数据示例)"
   ]
  },
  {
   "cell_type": "markdown",
   "id": "bc7ab9f0",
   "metadata": {},
   "source": [
    "ERA5-Land 托管于 Copernicus Data Store, 无法通过 earthaccess 下载。\n",
    "本示例改用 NASA Global Land Data Assimilation System (GLDAS) Noah 0.25° 三小时产品\n",
    "作为气象强迫替代，short_name 设为 `GLDAS_NOAH025_3H`。\n",
    "- **空间范围**：郑州（lon: 112.8–114.0, lat: 34.2–35.0）\n",
    "- **时间范围**：2021-07-01 至 2021-07-31 (UTC)\n"
   ]
  },
  {
   "cell_type": "code",
   "execution_count": null,
   "id": "ab7a33c4",
   "metadata": {},
   "outputs": [],
   "source": [
    "from pathlib import Path\n",
    "import earthaccess\n",
    "\n",
    "# 首次运行会弹出 Earthdata 登录提示，需提前注册账户。\n",
    "earthaccess.login()\n"
   ]
  },
  {
   "cell_type": "code",
   "execution_count": null,
   "id": "d961feb3",
   "metadata": {},
   "outputs": [],
   "source": [
    "SHORT_NAME = \"GLDAS_NOAH025_3H\"\n",
    "TEMPORAL = (\"2021-07-01T00:00:00Z\", \"2021-07-31T23:59:59Z\")\n",
    "BOUNDING_BOX = (112.8, 34.2, 114.0, 35.0)  # (lon_min, lat_min, lon_max, lat_max)\n",
    "DOWNLOAD_DIR = Path(\"../data/gldas\")\n",
    "DOWNLOAD_DIR.mkdir(parents=True, exist_ok=True)\n",
    "\n",
    "results = earthaccess.search_data(\n",
    "    short_name=SHORT_NAME,\n",
    "    temporal=TEMPORAL,\n",
    "    bounding_box=BOUNDING_BOX,\n",
    ")\n",
    "print(f\"共检索到 {len(results)} 条记录\")\n"
   ]
  },
  {
   "cell_type": "code",
   "execution_count": null,
   "id": "848a013b",
   "metadata": {},
   "outputs": [],
   "source": [
    "if results:\n",
    "    downloaded = earthaccess.download(results, path=DOWNLOAD_DIR)\n",
    "    print(f'下载完成: {len(downloaded)} 个文件')\n",
    "    for item in downloaded:\n",
    "        print(item)\n",
    "else:\n",
    "    raise RuntimeError('未检索到任何数据集，请检查 short_name/时间范围/空间范围。')\n"
   ]
  }
 ],
 "metadata": {},
 "nbformat": 4,
 "nbformat_minor": 5
}
