{
 "cells": [
  {
   "cell_type": "markdown",
   "id": "ea7f99e9",
   "metadata": {},
   "source": [
    "# 使用 earthaccess 下载 CYGNSS 反射率数据"
   ]
  },
  {
   "cell_type": "markdown",
   "id": "aeffdddc",
   "metadata": {},
   "source": [
    "示例使用 CYGNSS Level 1 v2.1 (`short_name = 'CYGNSS_L1_V2.1'`)。\n",
    "如需 Level 2 等产品，可在参数单元中改写 short_name。\n",
    "- **空间范围**：郑州（lon: 112.8–114.0, lat: 34.2–35.0）\n",
    "- **时间范围**：2021-07-01 至 2021-07-31 (UTC)\n"
   ]
  },
  {
   "cell_type": "code",
   "execution_count": 1,
   "id": "53b3e682",
   "metadata": {},
   "outputs": [
    {
     "ename": "ModuleNotFoundError",
     "evalue": "No module named 'earthaccess'",
     "output_type": "error",
     "traceback": [
      "\u001b[0;31m---------------------------------------------------------------------------\u001b[0m",
      "\u001b[0;31mModuleNotFoundError\u001b[0m                       Traceback (most recent call last)",
      "Cell \u001b[0;32mIn[1], line 2\u001b[0m\n\u001b[1;32m      1\u001b[0m \u001b[38;5;28;01mfrom\u001b[39;00m\u001b[38;5;250m \u001b[39m\u001b[38;5;21;01mpathlib\u001b[39;00m\u001b[38;5;250m \u001b[39m\u001b[38;5;28;01mimport\u001b[39;00m Path\n\u001b[0;32m----> 2\u001b[0m \u001b[38;5;28;01mimport\u001b[39;00m\u001b[38;5;250m \u001b[39m\u001b[38;5;21;01mearthaccess\u001b[39;00m\n\u001b[1;32m      4\u001b[0m \u001b[38;5;66;03m# 首次运行会弹出 Earthdata 登录提示，需提前注册账户。\u001b[39;00m\n\u001b[1;32m      5\u001b[0m earthaccess\u001b[38;5;241m.\u001b[39mlogin()\n",
      "\u001b[0;31mModuleNotFoundError\u001b[0m: No module named 'earthaccess'"
     ]
    }
   ],
   "source": [
    "from pathlib import Path\n",
    "import earthaccess\n",
    "\n",
    "# 首次运行会弹出 Earthdata 登录提示，需提前注册账户。\n",
    "earthaccess.login()\n"
   ]
  },
  {
   "cell_type": "code",
   "execution_count": null,
   "id": "16f8d968",
   "metadata": {},
   "outputs": [],
   "source": [
    "SHORT_NAME = \"CYGNSS_L1_V2.1\"\n",
    "TEMPORAL = (\"2021-07-01T00:00:00Z\", \"2021-07-31T23:59:59Z\")\n",
    "BOUNDING_BOX = (112.8, 34.2, 114.0, 35.0)  # (lon_min, lat_min, lon_max, lat_max)\n",
    "DOWNLOAD_DIR = Path(\"../data/cygnss\")\n",
    "DOWNLOAD_DIR.mkdir(parents=True, exist_ok=True)\n",
    "\n",
    "results = earthaccess.search_data(\n",
    "    short_name=SHORT_NAME,\n",
    "    temporal=TEMPORAL,\n",
    "    bounding_box=BOUNDING_BOX,\n",
    ")\n",
    "print(f\"共检索到 {len(results)} 条记录\")\n"
   ]
  },
  {
   "cell_type": "code",
   "execution_count": null,
   "id": "b4cd954d",
   "metadata": {},
   "outputs": [],
   "source": [
    "if results:\n",
    "    downloaded = earthaccess.download(results, path=DOWNLOAD_DIR)\n",
    "    print(f'下载完成: {len(downloaded)} 个文件')\n",
    "    for item in downloaded:\n",
    "        print(item)\n",
    "else:\n",
    "    raise RuntimeError('未检索到任何数据集，请检查 short_name/时间范围/空间范围。')\n"
   ]
  }
 ],
 "metadata": {
  "kernelspec": {
   "display_name": "rs_kalman_soil",
   "language": "python",
   "name": "python3"
  },
  "language_info": {
   "codemirror_mode": {
    "name": "ipython",
    "version": 3
   },
   "file_extension": ".py",
   "mimetype": "text/x-python",
   "name": "python",
   "nbconvert_exporter": "python",
   "pygments_lexer": "ipython3",
   "version": "3.10.18"
  }
 },
 "nbformat": 4,
 "nbformat_minor": 5
}
