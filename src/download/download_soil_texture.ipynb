{
 "cells": [
  {
   "cell_type": "markdown",
   "id": "26a3e46e",
   "metadata": {},
   "source": [
    "# 使用 earthaccess 下载土壤质地数据 (示例: ISLSCP II Soil Types)"
   ]
  },
  {
   "cell_type": "markdown",
   "id": "8a820f23",
   "metadata": {},
   "source": [
    "Earthdata 提供多种土壤属性数据集。示例 short_name 设置为 `ISLSCP2_SOILTYP`，\n",
    "对应 FAO/UNESCO Soil Types。可根据需求更换为其他土壤产品。\n",
    "- **空间范围**：郑州（lon: 112.8–114.0, lat: 34.2–35.0）\n",
    "- **时间范围**：2021-07-01 至 2021-07-31 (UTC)\n"
   ]
  },
  {
   "cell_type": "code",
   "execution_count": null,
   "id": "e0ec19bf",
   "metadata": {},
   "outputs": [],
   "source": [
    "from pathlib import Path\n",
    "import earthaccess\n",
    "\n",
    "# 首次运行会弹出 Earthdata 登录提示，需提前注册账户。\n",
    "earthaccess.login()\n"
   ]
  },
  {
   "cell_type": "code",
   "execution_count": null,
   "id": "15107127",
   "metadata": {},
   "outputs": [],
   "source": [
    "SHORT_NAME = \"ISLSCP2_SOILTYP\"\n",
    "TEMPORAL = (\"2021-07-01T00:00:00Z\", \"2021-07-31T23:59:59Z\")\n",
    "BOUNDING_BOX = (112.8, 34.2, 114.0, 35.0)  # (lon_min, lat_min, lon_max, lat_max)\n",
    "DOWNLOAD_DIR = Path(\"../data/soil\")\n",
    "DOWNLOAD_DIR.mkdir(parents=True, exist_ok=True)\n",
    "\n",
    "results = earthaccess.search_data(\n",
    "    short_name=SHORT_NAME,\n",
    "    temporal=TEMPORAL,\n",
    "    bounding_box=BOUNDING_BOX,\n",
    ")\n",
    "print(f\"共检索到 {len(results)} 条记录\")\n"
   ]
  },
  {
   "cell_type": "code",
   "execution_count": null,
   "id": "f3a1e575",
   "metadata": {},
   "outputs": [],
   "source": [
    "if results:\n",
    "    downloaded = earthaccess.download(results, path=DOWNLOAD_DIR)\n",
    "    print(f'下载完成: {len(downloaded)} 个文件')\n",
    "    for item in downloaded:\n",
    "        print(item)\n",
    "else:\n",
    "    raise RuntimeError('未检索到任何数据集，请检查 short_name/时间范围/空间范围。')\n"
   ]
  }
 ],
 "metadata": {},
 "nbformat": 4,
 "nbformat_minor": 5
}
