{
 "cells": [
  {
   "cell_type": "markdown",
   "id": "81a8e7e8",
   "metadata": {},
   "source": [
    "# 使用 earthaccess 下载 GPM IMERG 降水数据"
   ]
  },
  {
   "cell_type": "markdown",
   "id": "1e28c94f",
   "metadata": {},
   "source": [
    "本笔记本示例展示如何下载 GPM IMERG Half-Hourly v06 产品，\n",
    "默认 `short_name` 设置为 `GPM_3IMERGHHL` (Late Run)。\n",
    "如需 Final Run 或其他分辨率，请替换 short_name 并调整 temporal/BOUNDING_BOX。\n",
    "- **空间范围**：郑州（lon: 112.8–114.0, lat: 34.2–35.0）\n",
    "- **时间范围**：2021-07-01 至 2021-07-31 (UTC)\n"
   ]
  },
  {
   "cell_type": "code",
   "execution_count": null,
   "id": "c79df2a4",
   "metadata": {},
   "outputs": [],
   "source": [
    "from pathlib import Path\n",
    "import earthaccess\n",
    "\n",
    "# 首次运行会弹出 Earthdata 登录提示，需提前注册账户。\n",
    "earthaccess.login()\n"
   ]
  },
  {
   "cell_type": "code",
   "execution_count": null,
   "id": "131444e9",
   "metadata": {},
   "outputs": [],
   "source": [
    "SHORT_NAME = \"GPM_3IMERGHHL\"\n",
    "TEMPORAL = (\"2021-07-01T00:00:00Z\", \"2021-07-31T23:59:59Z\")\n",
    "BOUNDING_BOX = (112.8, 34.2, 114.0, 35.0)  # (lon_min, lat_min, lon_max, lat_max)\n",
    "DOWNLOAD_DIR = Path(\"../data/imerge\")\n",
    "DOWNLOAD_DIR.mkdir(parents=True, exist_ok=True)\n",
    "\n",
    "results = earthaccess.search_data(\n",
    "    short_name=SHORT_NAME,\n",
    "    temporal=TEMPORAL,\n",
    "    bounding_box=BOUNDING_BOX,\n",
    ")\n",
    "print(f\"共检索到 {len(results)} 条记录\")\n"
   ]
  },
  {
   "cell_type": "code",
   "execution_count": null,
   "id": "b03c5f9b",
   "metadata": {},
   "outputs": [],
   "source": [
    "if results:\n",
    "    downloaded = earthaccess.download(results, path=DOWNLOAD_DIR)\n",
    "    print(f'下载完成: {len(downloaded)} 个文件')\n",
    "    for item in downloaded:\n",
    "        print(item)\n",
    "else:\n",
    "    raise RuntimeError('未检索到任何数据集，请检查 short_name/时间范围/空间范围。')\n"
   ]
  }
 ],
 "metadata": {},
 "nbformat": 4,
 "nbformat_minor": 5
}
