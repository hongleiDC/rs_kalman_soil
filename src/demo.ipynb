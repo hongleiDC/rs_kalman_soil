{
    "cells": [
        {
            "cell_type": "code",
            "execution_count": 1,
            "id": "04080e57",
            "metadata": {},
            "outputs": [],
            "source": [
                "%load_ext autoreload\n",
                "%autoreload 2"
            ]
        },
        {
            "cell_type": "markdown",
            "id": "4f1a66fd",
            "metadata": {},
            "source": [
                "# 模块一演示：从“本地目录”读取 CYGNSS L1 v3.2 + GEE 可用性探测 + EnKF 配置 + LHS\n",
                "\n",
                "本 Notebook 调用 `GNSSREnKFModule1`：\n",
                "1. 读取 AOI（GeoJSON）；\n",
                "2. 探测 GEE 数据可用性（IMERG / ERA5-Land / MODIS NDVI）；\n",
                "3. **从本地目录递归读取 CYGNSS L1 v3.2**，抽取 DDM峰值反射率（线性）与入射角，统计每日覆盖与日均观测；\n",
                "4. 在主程序中配置 EnKF 初始参数与 Q/R；\n",
                "5. 生成 LHS 参数样本集合；\n",
                "6. 导出制品到输出目录。"
            ]
        },
        {
            "cell_type": "code",
            "execution_count": 1,
            "id": "8c6d3c95",
            "metadata": {},
            "outputs": [
                {
                    "name": "stdout",
                    "output_type": "stream",
                    "text": [
                        "运行完成，制品目录： ./out_module1\n"
                    ]
                },
                {
                    "data": {
                        "text/plain": [
                            "['enkf_config.json',\n",
                            " 'cygnss_daily_obs.csv',\n",
                            " 'availability_report.json',\n",
                            " 'daily_run_plan.csv',\n",
                            " 'lhs_params.csv']"
                        ]
                    },
                    "execution_count": 1,
                    "metadata": {},
                    "output_type": "execute_result"
                }
            ],
            "source": [
                "from GNSSREnKFModule2 import GNSSREnKFModule1\n",
                "import os, pandas as pd\n",
                "\n",
                "# ===== 用户需配置 =====\n",
                "AOI_GEOJSON = \"../boundary/zhengzhou.geojson\"           # <-- 替换为你的AOI GeoJSON\n",
                "LOCAL_CYGNSS_DIR = \"/media/hl/Expansion/CYGNSS/CYGNSS_L1_V3.2/2021/7/\"  # <-- 替换为“存放CYGNSS L1 v3.2”的目录\n",
                "START_DATE = \"2021-07-01\"\n",
                "END_DATE   = \"2021-07-31\"\n",
                "OUTPUT_DIR = \"./out_module1\"\n",
                "\n",
                "# ===== 运行模块一 =====\n",
                "mod1 = GNSSREnKFModule1(\n",
                "    aoi_geojson_path=AOI_GEOJSON,\n",
                "    local_cygnss_dir=LOCAL_CYGNSS_DIR,\n",
                "    start_date=START_DATE,\n",
                "    end_date=END_DATE,\n",
                "    output_dir=OUTPUT_DIR,\n",
                "    min_hits_per_day=10,\n",
                "    lhs_samples=50,\n",
                "    random_seed=42,\n",
                "    cygnss_required_substrings=(\"L1\", \"3.2\"),     # 仅匹配文件名包含这两个子串，可按需调整\n",
                "    cygnss_glob_pattern=\"**/*.nc\"                 # 递归匹配 .nc；也可用 \"**/*.nc4\" 或 \"**/*.h5\"\n",
                ")\n",
                "results = mod1.run()\n",
                "print(\"运行完成，制品目录：\", OUTPUT_DIR)\n",
                "os.listdir(OUTPUT_DIR)"
            ]
        },
        {
            "cell_type": "markdown",
            "id": "4b1fcd05",
            "metadata": {},
            "source": [
                "## 每日运行计划（前10行）"
            ]
        },
        {
            "cell_type": "code",
            "execution_count": null,
            "id": "c3ce702a",
            "metadata": {},
            "outputs": [],
            "source": [
                "plan = results[\"daily_plan\"]\n",
                "plan.head(10)"
            ]
        },
        {
            "cell_type": "markdown",
            "id": "50e4ea19",
            "metadata": {},
            "source": [
                "## CYGNSS 日均观测（线性反射率/入射角，前10行）\n",
                "（文件也已导出：`cygnss_daily_obs.csv`）"
            ]
        },
        {
            "cell_type": "code",
            "execution_count": null,
            "id": "70e2a0c4",
            "metadata": {},
            "outputs": [],
            "source": [
                "cyg_daily = results[\"cygnss_daily_obs\"]\n",
                "cyg_daily.head(10)"
            ]
        },
        {
            "cell_type": "markdown",
            "id": "2dba44d6",
            "metadata": {},
            "source": [
                "## GEE 可用性与 EnKF 配置预览"
            ]
        },
        {
            "cell_type": "code",
            "execution_count": null,
            "id": "f688dc3c",
            "metadata": {},
            "outputs": [],
            "source": [
                "results[\"availability\"], results[\"enkf_config\"]"
            ]
        },
        {
            "cell_type": "markdown",
            "id": "86a9b1ed",
            "metadata": {},
            "source": [
                "## LHS 采样参数（前5行）"
            ]
        },
        {
            "cell_type": "code",
            "execution_count": null,
            "id": "9275cc7d",
            "metadata": {},
            "outputs": [],
            "source": [
                "lhs = results[\"lhs_params\"]\n",
                "lhs.head(5)"
            ]
        },
        {
            "cell_type": "markdown",
            "id": "673e98d9",
            "metadata": {},
            "source": [
                "## （可选）如果 ERA5/IMERG/NDVI 你将改为“本地数据”，可以更新回退标志并重新导出计划表。"
            ]
        },
        {
            "cell_type": "code",
            "execution_count": null,
            "id": "4155b47b",
            "metadata": {},
            "outputs": [],
            "source": [
                "mod1.set_local_fallback(imerg=True, era5=True, ndvi=True)\n",
                "mod1.export_artifacts()\n",
                "mod1.daily_plan.head(10)"
            ]
        }
    ],
    "metadata": {
        "kernelspec": {
            "display_name": "rs_kalman_soil",
            "language": "python",
            "name": "python3"
        },
        "language_info": {
            "codemirror_mode": {
                "name": "ipython",
                "version": 3
            },
            "file_extension": ".py",
            "mimetype": "text/x-python",
            "name": "python",
            "nbconvert_exporter": "python",
            "pygments_lexer": "ipython3",
            "version": "3.10.18"
        }
    },
    "nbformat": 4,
    "nbformat_minor": 5
}
